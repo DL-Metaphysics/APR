{
 "cells": [
  {
   "cell_type": "code",
   "execution_count": 1,
   "metadata": {},
   "outputs": [],
   "source": [
    "import numpy as np\n",
    "import matplotlib.pyplot as plt\n",
    "%matplotlib inline"
   ]
  },
  {
   "cell_type": "code",
   "execution_count": 2,
   "metadata": {},
   "outputs": [],
   "source": [
    "rating_matrix = np.array([[5,3,0,1], [4,0,0,1], [1,1,0,5], [1,0,0,4], [0,1,5,4]])\n",
    "\n",
    "feature_num = 2\n",
    "user_num, item_num = rating_matrix.shape\n",
    "user_matrix = np.random.random_sample((user_num, feature_num))\n",
    "item_matrix = np.random.random_sample((item_num, feature_num))"
   ]
  },
  {
   "cell_type": "code",
   "execution_count": 3,
   "metadata": {},
   "outputs": [],
   "source": [
    "def sgd(data_matrix, user, item, alpha=0.0002, lam=0.02, iter_num=5000):\n",
    "    results = []\n",
    "    for step in range(iter_num):\n",
    "        for u in range(data_matrix.shape[0]):\n",
    "            for i in range(data_matrix.shape[1]):\n",
    "                if data_matrix[u][i] != 0:\n",
    "                    e_ui = data_matrix[u][i] - sum(user[u,:] * item[i,:])\n",
    "                    user[u,:] += alpha * (2 * e_ui * item[i,:] - lam * user[u,:])\n",
    "                    item[i,:] += alpha * (2 * e_ui * user[u,:] - lam * item[i,:])\n",
    "                    \n",
    "        e = 0            \n",
    "        for i in range(data_matrix.shape[0]):\n",
    "            for j in range(data_matrix.shape[1]):\n",
    "                if data_matrix[i][j] != 0:\n",
    "                    e += pow(data_matrix[i][j] - np.dot(user[i,:], item[j,:]), 2)\n",
    "                    e += lam/2 * np.sum((pow(user[i,:], 2) + pow(item[j,:], 2)), axis=0)\n",
    "                        \n",
    "        results.append(e)\n",
    "        # 当 e < 0.001 时收敛\n",
    "        if e < 0.001:\n",
    "            break\n",
    "            \n",
    "    return user, item, results"
   ]
  },
  {
   "cell_type": "code",
   "execution_count": 4,
   "metadata": {},
   "outputs": [
    {
     "name": "stdout",
     "output_type": "stream",
     "text": [
      "[[5.02578942 2.86306535 4.50005916 0.99788069]\n",
      " [3.94275951 2.25166301 3.70352865 0.99677501]\n",
      " [1.09371608 0.74672083 4.82295364 4.96452901]\n",
      " [0.95500732 0.64257568 3.91776027 3.97236549]\n",
      " [2.19314342 1.34320549 4.8801324  4.03756733]]\n"
     ]
    }
   ],
   "source": [
    "user, item, results = sgd(rating_matrix, user_matrix, item_matrix)\n",
    "\n",
    "matrix_predict = np.dot(user, item.T)\n",
    "print(matrix_predict)"
   ]
  },
  {
   "cell_type": "code",
   "execution_count": 5,
   "metadata": {},
   "outputs": [],
   "source": [
    "def get_miu(data_matrix):\n",
    "\n",
    "    non_zero_num = 0\n",
    "    non_zero_sum = 0\n",
    "    for i in range(data_matrix.shape[0]):\n",
    "        for j in range(data_matrix.shape[1]):\n",
    "            if data_matrix[i][j] != 0:\n",
    "                non_zero_num += 1\n",
    "                non_zero_sum += data_matrix[i][j]\n",
    "    return non_zero_sum/non_zero_num, non_zero_num\n",
    "\n",
    "miu, non_zero_num = get_miu(rating_matrix)\n",
    "\n",
    "def cal_MSE(data_matrix, predict_matrix, non_zero_num):\n",
    "    filter_matrix_entry = data_matrix > 0\n",
    "    predict_matrix_filtered = predict_matrix * filter_matrix_entry\n",
    "    diff_matrix = (predict_matrix_filtered - data_matrix) * (predict_matrix_filtered - data_matrix)\n",
    "    mse = (1/non_zero_num) * (diff_matrix.sum())\n",
    "    \n",
    "    return mse"
   ]
  },
  {
   "cell_type": "code",
   "execution_count": 6,
   "metadata": {},
   "outputs": [],
   "source": [
    "def sgd_bias(data_matrix, user, item, miu, alpha=0.0002, lam=0.02, iter_num=5000):\n",
    "    results = []\n",
    "    \n",
    "    b_u = [1] * rating_matrix.shape[0]\n",
    "    b_i = [1] * rating_matrix.shape[1]\n",
    "    for j in range(iter_num):\n",
    "        for u in range(data_matrix.shape[0]):\n",
    "            for i in range(data_matrix.shape[1]):\n",
    "                if data_matrix[u][i] != 0:\n",
    "                    b_ui = b_u[u] + b_i[i] + miu\n",
    "                    e_ui = data_matrix[u][i] - b_ui - sum(user[u,:] * item[i,:])\n",
    "                    user[u,:] += alpha * (2 * e_ui * item[i,:] - lam * user[u,:])\n",
    "                    item[i,:] += alpha * (2 * e_ui * user[u,:] - lam * item[i,:])\n",
    "                    b_u[u] += alpha * (e_ui - lam * b_u[u])\n",
    "                    b_i[i] += alpha * (e_ui - lam * b_i[i])\n",
    "                    \n",
    "        e = 0            \n",
    "        matrix_predict_bias = np.dot(user, item.T)\n",
    "        for i in range(data_matrix.shape[0]):\n",
    "            for j in range(data_matrix.shape[1]):\n",
    "                if data_matrix[i][j] != 0:\n",
    "                    matrix_predict_bias[i][j] += (miu + b_u[i] + b_i[j])\n",
    "                    e += pow((data_matrix[i][j] - matrix_predict_bias[i][j]), 2)\n",
    "                    e += lam/2 * np.sum((pow(user[i,:], 2) + pow(item[j,:], 2)), axis=0)\n",
    "                    \n",
    "        results.append(e)\n",
    "        # 当 e < 0.001 时收敛\n",
    "        if e < 0.001:\n",
    "            break       \n",
    "            \n",
    "    return user, item, b_u, b_i, results"
   ]
  },
  {
   "cell_type": "code",
   "execution_count": 7,
   "metadata": {},
   "outputs": [
    {
     "name": "stdout",
     "output_type": "stream",
     "text": [
      "[[4.92553835 3.03041091 6.80204679 0.96710211]\n",
      " [4.05164891 2.40239424 6.27515094 1.06658034]\n",
      " [0.98111744 1.01592582 5.91284    4.95384455]\n",
      " [1.03967217 0.74860372 5.85609691 4.0246456 ]\n",
      " [1.04189923 1.01585921 4.99550074 3.99092884]]\n"
     ]
    }
   ],
   "source": [
    "user_bias, item_bias, b_u, b_i, results_bias = sgd_bias(rating_matrix, user_matrix, item_matrix, miu)\n",
    "\n",
    "matrix_predict_bias = np.dot(user_bias, item_bias.T)\n",
    "for u in range(matrix_predict_bias.shape[0]):\n",
    "    for i in range(matrix_predict_bias.shape[1]):\n",
    "        matrix_predict_bias[u][i] += (miu + b_u[u] + b_i[i])\n",
    "print(matrix_predict_bias)"
   ]
  },
  {
   "cell_type": "code",
   "execution_count": 8,
   "metadata": {},
   "outputs": [
    {
     "data": {
      "image/png": "[encoded data removed]",
      "text/plain": [
       "<Figure size 432x288 with 1 Axes>"
      ]
     },
     "metadata": {
      "needs_background": "light"
     },
     "output_type": "display_data"
    }
   ],
   "source": [
    "x=range(len(results))\n",
    "\n",
    "plt.plot(x, results, 'r', label='sgd' )\n",
    "plt.plot(x, results_bias, 'b', label='sgd_bias')\n",
    "plt.title(\"Convergence curve\")\n",
    "plt.xlabel(\"generation\")\n",
    "plt.ylabel(\"loss\")\n",
    "plt.legend()\n",
    "plt.show()"
   ]
  },
  {
   "cell_type": "code",
   "execution_count": 9,
   "metadata": {},
   "outputs": [
    {
     "name": "stdout",
     "output_type": "stream",
     "text": [
      "sgd:  0.017942796067478638\n",
      "sgd_bias:  0.001532924799775961\n"
     ]
    }
   ],
   "source": [
    "print('sgd: ', cal_MSE(rating_matrix, matrix_predict, non_zero_num))\n",
    "print('sgd_bias: ', cal_MSE(rating_matrix, matrix_predict_bias, non_zero_num))"
   ]
  }
 ],
 "metadata": {
  "kernelspec": {
   "display_name": "Python 3",
   "language": "python",
   "name": "python3"
  },
  "language_info": {
   "codemirror_mode": {
    "name": "ipython",
    "version": 3
   },
   "file_extension": ".py",
   "mimetype": "text/x-python",
   "name": "python",
   "nbconvert_exporter": "python",
   "pygments_lexer": "ipython3",
   "version": "3.6.8"
  }
 },
 "nbformat": 4,
 "nbformat_minor": 2
}
